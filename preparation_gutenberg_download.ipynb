{
 "cells": [
  {
   "cell_type": "code",
   "execution_count": 1,
   "id": "7601337d",
   "metadata": {},
   "outputs": [
    {
     "name": "stdout",
     "output_type": "stream",
     "text": [
      "Requirement already satisfied: gutenberg in /geode2/home/u060/ninoparu/Carbonate/python_37/lib/python3.9/site-packages (0.8.1)\n",
      "Requirement already satisfied: bsddb3>=6.1.0 in /geode2/home/u060/ninoparu/Carbonate/python_37/lib/python3.9/site-packages (from gutenberg) (6.2.9)\n",
      "Requirement already satisfied: rdflib-sqlalchemy>=0.3.8 in /geode2/home/u060/ninoparu/Carbonate/python_37/lib/python3.9/site-packages (from gutenberg) (0.4.0)\n",
      "Requirement already satisfied: requests>=2.5.1 in /geode2/home/u060/ninoparu/Carbonate/python_37/lib/python3.9/site-packages (from gutenberg) (2.25.1)\n",
      "Requirement already satisfied: rdflib<5.0.0,>=4.2.0 in /geode2/home/u060/ninoparu/Carbonate/python_37/lib/python3.9/site-packages (from gutenberg) (4.2.2)\n",
      "Requirement already satisfied: SPARQLWrapper>=1.8.2 in /geode2/home/u060/ninoparu/Carbonate/python_37/lib/python3.9/site-packages (from gutenberg) (1.8.5)\n",
      "Requirement already satisfied: future>=0.15.2 in /geode2/home/u060/ninoparu/Carbonate/python_37/lib/python3.9/site-packages (from gutenberg) (0.18.2)\n",
      "Requirement already satisfied: six>=1.10.0 in /geode2/home/u060/ninoparu/Carbonate/python_37/lib/python3.9/site-packages (from gutenberg) (1.15.0)\n",
      "Requirement already satisfied: setuptools>=18.5 in /geode2/home/u060/ninoparu/Carbonate/python_37/lib/python3.9/site-packages (from gutenberg) (52.0.0.post20210125)\n",
      "Requirement already satisfied: isodate in /geode2/home/u060/ninoparu/Carbonate/python_37/lib/python3.9/site-packages (from rdflib<5.0.0,>=4.2.0->gutenberg) (0.6.0)\n",
      "Requirement already satisfied: pyparsing in /geode2/home/u060/ninoparu/Carbonate/python_37/lib/python3.9/site-packages (from rdflib<5.0.0,>=4.2.0->gutenberg) (2.4.7)\n",
      "Requirement already satisfied: alembic>=0.8.8 in /geode2/home/u060/ninoparu/Carbonate/python_37/lib/python3.9/site-packages (from rdflib-sqlalchemy>=0.3.8->gutenberg) (1.6.2)\n",
      "Requirement already satisfied: SQLAlchemy>=1.1.4 in /geode2/home/u060/ninoparu/Carbonate/python_37/lib/python3.9/site-packages (from rdflib-sqlalchemy>=0.3.8->gutenberg) (1.4.15)\n",
      "Requirement already satisfied: python-editor>=0.3 in /geode2/home/u060/ninoparu/Carbonate/python_37/lib/python3.9/site-packages (from alembic>=0.8.8->rdflib-sqlalchemy>=0.3.8->gutenberg) (1.0.4)\n",
      "Requirement already satisfied: Mako in /geode2/home/u060/ninoparu/Carbonate/python_37/lib/python3.9/site-packages (from alembic>=0.8.8->rdflib-sqlalchemy>=0.3.8->gutenberg) (1.1.4)\n",
      "Requirement already satisfied: python-dateutil in /geode2/home/u060/ninoparu/Carbonate/python_37/lib/python3.9/site-packages (from alembic>=0.8.8->rdflib-sqlalchemy>=0.3.8->gutenberg) (2.8.1)\n",
      "Requirement already satisfied: chardet<5,>=3.0.2 in /geode2/home/u060/ninoparu/Carbonate/python_37/lib/python3.9/site-packages (from requests>=2.5.1->gutenberg) (4.0.0)\n",
      "Requirement already satisfied: urllib3<1.27,>=1.21.1 in /geode2/home/u060/ninoparu/Carbonate/python_37/lib/python3.9/site-packages (from requests>=2.5.1->gutenberg) (1.26.4)\n",
      "Requirement already satisfied: idna<3,>=2.5 in /geode2/home/u060/ninoparu/Carbonate/python_37/lib/python3.9/site-packages (from requests>=2.5.1->gutenberg) (2.10)\n",
      "Requirement already satisfied: certifi>=2017.4.17 in /geode2/home/u060/ninoparu/Carbonate/python_37/lib/python3.9/site-packages (from requests>=2.5.1->gutenberg) (2021.5.30)\n",
      "Requirement already satisfied: greenlet!=0.4.17 in /geode2/home/u060/ninoparu/Carbonate/python_37/lib/python3.9/site-packages (from SQLAlchemy>=1.1.4->rdflib-sqlalchemy>=0.3.8->gutenberg) (1.1.0)\n",
      "Requirement already satisfied: MarkupSafe>=0.9.2 in /geode2/home/u060/ninoparu/Carbonate/python_37/lib/python3.9/site-packages (from Mako->alembic>=0.8.8->rdflib-sqlalchemy>=0.3.8->gutenberg) (1.1.1)\n"
     ]
    }
   ],
   "source": [
    "!pip install gutenberg"
   ]
  },
  {
   "cell_type": "code",
   "execution_count": 2,
   "id": "81ca523e",
   "metadata": {},
   "outputs": [],
   "source": [
    "from gutenberg.acquire import load_etext\n",
    "from gutenberg.cleanup import strip_headers"
   ]
  },
  {
   "cell_type": "code",
   "execution_count": 3,
   "id": "48f25d6f",
   "metadata": {},
   "outputs": [],
   "source": [
    "import pandas as pd\n",
    "gb_pd = pd.read_csv(\"fiction_novel_list_gutenberg_hathitrust.csv\")"
   ]
  },
  {
   "cell_type": "code",
   "execution_count": 4,
   "id": "a8ac7e20",
   "metadata": {},
   "outputs": [
    {
     "data": {
      "text/plain": [
       "array([   15,    27,    60, ..., 62184, 62254, 62278])"
      ]
     },
     "execution_count": 4,
     "metadata": {},
     "output_type": "execute_result"
    }
   ],
   "source": [
    "gb_pd[gb_pd.Domain==\"Fiction\"][\"Volume ID in Gutenberg\"].unique()"
   ]
  },
  {
   "cell_type": "code",
   "execution_count": 7,
   "id": "7c3189d3",
   "metadata": {},
   "outputs": [],
   "source": [
    "vols = {}\n",
    "for x in gb_pd[gb_pd.Domain==\"Fiction\"][\"Volume ID in Gutenberg\"].unique()[:200]:\n",
    "    #print(x)\n",
    "    try:\n",
    "        vols[int(x)] = strip_headers(load_etext(int(x))).strip()\n",
    "    except:\n",
    "        continue"
   ]
  },
  {
   "cell_type": "code",
   "execution_count": 8,
   "id": "740baf27",
   "metadata": {},
   "outputs": [
    {
     "data": {
      "text/plain": [
       "dict_keys([15, 27, 60, 62, 64, 72, 73, 76, 78, 82, 84, 86, 91, 94, 95, 103, 105, 119, 121, 126, 133, 135, 139, 140, 141, 142, 144, 145, 155, 158, 161, 164, 165, 170, 171, 172, 173, 174, 175, 176, 177, 178, 179, 203, 215, 217, 222, 224, 233, 234, 244, 245, 260, 268, 284, 297, 298, 308, 310, 318, 319, 321, 325, 329, 330, 331, 335, 344, 345, 349, 350, 356, 357, 361, 362, 372, 373, 380, 381, 388, 393, 394, 401, 402, 405, 421, 422, 426, 434, 447, 452, 471, 482, 506, 507, 514, 521, 524, 532, 538, 543, 550, 558, 559, 560, 564, 580, 584, 586, 589, 599, 601, 611, 619, 638, 642, 643, 644, 645, 652, 653, 656, 678, 696, 700, 705, 711, 718, 720, 730, 746, 753, 763, 765, 766, 767, 768, 773, 780, 786, 789, 805, 821, 829, 840, 848, 850, 859, 860, 863, 864, 882, 883, 903, 904, 910, 917, 938, 940, 942, 963, 965, 966, 967, 968, 969, 973, 974, 980, 993, 1013, 1014, 1023, 1024, 1026, 1027, 1028, 1032, 1047, 1051, 1053, 1055, 1056, 1059, 1074, 1079, 1083, 1088, 1098, 1144, 1145, 1147, 1153, 1155, 1156, 1158, 1159, 1160, 1161, 1162])"
      ]
     },
     "execution_count": 8,
     "metadata": {},
     "output_type": "execute_result"
    }
   ],
   "source": [
    "vols.keys()"
   ]
  },
  {
   "cell_type": "code",
   "execution_count": 24,
   "id": "425d0360",
   "metadata": {},
   "outputs": [],
   "source": [
    "import json\n",
    "with open(\"Gutenberg_Volumes_200.json\",\"w\") as file:\n",
    "    file.write(json.dumps(vols))"
   ]
  }
 ],
 "metadata": {
  "kernelspec": {
   "display_name": "Python 3",
   "language": "python",
   "name": "python3"
  },
  "language_info": {
   "codemirror_mode": {
    "name": "ipython",
    "version": 3
   },
   "file_extension": ".py",
   "mimetype": "text/x-python",
   "name": "python",
   "nbconvert_exporter": "python",
   "pygments_lexer": "ipython3",
   "version": "3.9.2"
  }
 },
 "nbformat": 4,
 "nbformat_minor": 5
}
